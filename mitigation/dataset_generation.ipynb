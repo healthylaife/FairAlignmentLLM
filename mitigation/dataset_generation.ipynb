{
  "nbformat": 4,
  "nbformat_minor": 0,
  "metadata": {
    "colab": {
      "provenance": []
    },
    "kernelspec": {
      "name": "python3",
      "display_name": "Python 3"
    },
    "language_info": {
      "name": "python"
    }
  },
  "cells": [
    {
      "cell_type": "code",
      "source": [
        "from typing import List, Optional\n",
        "from vertexai.language_models import TextEmbeddingInput, TextEmbeddingModel\n",
        "from google.colab import auth\n",
        "auth.authenticate_user(project_id=\"CREDENTIAL\")\n",
        "\n",
        "def embed_text(\n",
        "    texts: List[str] = [\"banana muffins? \", \"banana bread? banana muffins?\"],\n",
        "    task: str = \"SEMANTIC_SIMILARITY\",\n",
        "    model_name: str = \"text-embedding-004\",\n",
        "    dimensionality: Optional[int] = 256,\n",
        ") -> List[List[float]]:\n",
        "    \"\"\"Embeds texts with a pre-trained, foundational model.\"\"\"\n",
        "    model = TextEmbeddingModel.from_pretrained(model_name)\n",
        "    inputs = [TextEmbeddingInput(text, task) for text in texts]\n",
        "    kwargs = dict(output_dimensionality=dimensionality) if dimensionality else {}\n",
        "    embeddings = model.get_embeddings(inputs, **kwargs)\n",
        "    return [embedding.values for embedding in embeddings]"
      ],
      "metadata": {
        "id": "AdJiqMciw3wi"
      },
      "execution_count": 3,
      "outputs": []
    },
    {
      "cell_type": "code",
      "source": [
        "import datasets\n",
        "import pandas as pd\n",
        "from scipy import spatial\n",
        "\n",
        "df = pd.read_csv(\"dataset.csv\") #Dataset expected to have columns [\"Prompt\", \"Reference Answer\", \"Candidate Answer 1\", \"Candidate Answer 2\"]\n",
        "dataset = {\"prompt\":[], \"chosen\":[], \"rejected\":[]}\n",
        "\n",
        "for index, row in df.iterrows():\n",
        "  dataset['prompt'].append(row['Prompt'])\n",
        "  doc_vecs = embed_text([\n",
        "      df.loc[index, 'Candidate Answer 1'], df.loc[index, 'Candidate Answer 2'], df.loc[index, 'Reference Answer']\n",
        "  ])\n",
        "\n",
        "  sim1 = 1 - spatial.distance.cosine(doc_vecs[0], doc_vecs[2])\n",
        "  sim2 = 1 - spatial.distance.cosine(doc_vecs[1], doc_vecs[2])\n",
        "  if sim1 > sim2:\n",
        "    dataset['chosen'].append(df.loc[index, 'Candidate Answer 1'])\n",
        "    dataset['rejected'].append(df.loc[index, 'Candidate Answer 2'])\n",
        "  else:\n",
        "    dataset['chosen'].append(df.loc[index, 'Candidate Answer 2'])\n",
        "    dataset['rejected'].append(df.loc[index, 'Candidate Answer 1'])\n",
        "\n",
        "\n",
        "\n",
        "dataset = datasets.Dataset.from_dict(dataset)\n"
      ],
      "metadata": {
        "id": "IhSkiEyewdnI"
      },
      "execution_count": 4,
      "outputs": []
    },
    {
      "cell_type": "code",
      "source": [
        "import pickle\n",
        "with open('dataset.pkl', 'wb') as f:\n",
        "    pickle.dump(dataset, f)"
      ],
      "metadata": {
        "id": "lGUVlZvv0JvE"
      },
      "execution_count": 6,
      "outputs": []
    }
  ]
}
