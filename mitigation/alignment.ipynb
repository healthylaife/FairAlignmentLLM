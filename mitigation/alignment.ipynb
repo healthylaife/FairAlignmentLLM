{
  "nbformat": 4,
  "nbformat_minor": 0,
  "metadata": {
    "colab": {
      "provenance": []
    },
    "kernelspec": {
      "name": "python3",
      "display_name": "Python 3"
    },
    "language_info": {
      "name": "python"
    }
  },
  "cells": [
    {
      "cell_type": "code",
      "source": [
        "import pickle\n",
        "with open('dataset.pkl', 'rb') as f:\n",
        "    dataset = pickle.load(f)"
      ],
      "metadata": {
        "id": "BbBu515w0VNl"
      },
      "execution_count": 8,
      "outputs": []
    },
    {
      "cell_type": "code",
      "source": [
        "model_name = \"MODELNAME\"\n",
        "tkn=\"HF TOKEN\""
      ],
      "metadata": {
        "id": "nM8-Tv5J0jcN"
      },
      "execution_count": null,
      "outputs": []
    },
    {
      "cell_type": "code",
      "source": [
        "# Load model directly\n",
        "from transformers import AutoTokenizer, AutoModelForCausalLM, BitsAndBytesConfig\n",
        "from trl import AutoModelForCausalLMWithValueHead, PPOConfig, PPOTrainer, DPOConfig, DPOTrainer\n",
        "\n",
        "quantization_config = BitsAndBytesConfig(load_in_8bit=False)\n",
        "\n",
        "tokenizer = AutoTokenizer.from_pretrained(model_name, token=tkn, device_map=\"auto\")\n",
        "model = AutoModelForCausalLM.from_pretrained(model_name, token=tkn,  device_map=\"auto\")"
      ],
      "metadata": {
        "id": "HWbaq7JW0kxh"
      },
      "execution_count": null,
      "outputs": []
    },
    {
      "cell_type": "code",
      "source": [
        "from peft import LoraConfig, PeftModel\n",
        "\n",
        "lora_config = LoraConfig(\n",
        "    r=18,\n",
        "    lora_alpha=32,\n",
        "    lora_dropout=0,\n",
        "    task_type=\"CAUSAL_LM\",\n",
        "    target_modules=[\"q_proj\", \"o_proj\", \"k_proj\", \"v_proj\", \"gate_proj\", \"up_proj\", \"down_proj\"],\n",
        ")\n",
        "\n",
        "from trl import CPOConfig, CPOTrainer\n",
        "\n",
        "cpo_config = CPOConfig(\n",
        "    beta=0.1,\n",
        "    output_dir=\"outputllama/\",\n",
        "    max_length=256,\n",
        "    max_prompt_length=256,\n",
        "    per_device_train_batch_size = 1,\n",
        "    save_steps=500,\n",
        "    loss_type=\"simpo\",\n",
        "    cpo_alpha=0\n",
        ")\n",
        "\n",
        "cpo_trainer = CPOTrainer(\n",
        "    model,\n",
        "    args=cpo_config,\n",
        "    train_dataset=dataset,\n",
        "    tokenizer=tokenizer,\n",
        "    peft_config=lora_config,\n",
        ")"
      ],
      "metadata": {
        "id": "XtoTxQF50tej"
      },
      "execution_count": null,
      "outputs": []
    },
    {
      "cell_type": "code",
      "source": [
        "import accelerate\n",
        "accelerate.notebook_launcher(cpo_trainer.train(), num_processes=4)"
      ],
      "metadata": {
        "id": "e7aqINi91lm6"
      },
      "execution_count": null,
      "outputs": []
    }
  ]
}
